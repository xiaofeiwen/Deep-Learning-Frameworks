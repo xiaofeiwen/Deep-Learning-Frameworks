{
 "cells": [
  {
   "cell_type": "code",
   "execution_count": 1,
   "metadata": {},
   "outputs": [
    {
     "name": "stdout",
     "output_type": "stream",
     "text": [
      "Tensorflow version 1.2.1\n"
     ]
    }
   ],
   "source": [
    "import tensorflow as tf\n",
    "import math\n",
    "import matplotlib.pyplot as plt\n",
    "from tensorflow.examples.tutorials.mnist import input_data as mnist_data\n",
    "from sklearn.model_selection import train_test_split\n",
    "from tensorflow.python.framework import ops\n",
    "import numpy as np\n",
    "import pandas as pd\n",
    "print(\"Tensorflow version \" + tf.__version__)\n",
    "%matplotlib inline\n",
    "tf.set_random_seed(0)\n",
    "np.random.seed(1)"
   ]
  },
  {
   "cell_type": "code",
   "execution_count": 2,
   "metadata": {
    "collapsed": true
   },
   "outputs": [],
   "source": [
    "def load_tf_data():\n",
    "    mnist = mnist_data.read_data_sets(\"data\", one_hot=True, reshape=False, validation_size=0)\n",
    "    X_train = mnist.train.images\n",
    "    Y_train = mnist.train.labels\n",
    "    X_test = mnist.test.images\n",
    "    Y_test = mnist.test.labels\n",
    "    return X_train, X_test, Y_train, Y_test"
   ]
  },
  {
   "cell_type": "code",
   "execution_count": 3,
   "metadata": {
    "collapsed": true
   },
   "outputs": [],
   "source": [
    "def load_kaggle_data():\n",
    "    data = pd.read_csv('input/train.csv')\n",
    "    X = data.iloc[:,1:].values\n",
    "    X = X.astype(np.float)\n",
    "    Y = data.iloc[:,0].values\n",
    "    X_train, X_test, Y_train, Y_test = train_test_split(X, Y, test_size=2000, random_state=42)\n",
    "    X_train = X_train.reshape(-1,28,28,1)/255.\n",
    "    X_test = X_test.reshape(-1,28,28,1)/255.\n",
    "    Y_train = np.eye(10)[Y_train.reshape(-1)]\n",
    "    Y_test = np.eye(10)[Y_test.reshape(-1)]\n",
    "    return X_train, X_test, Y_train, Y_test"
   ]
  },
  {
   "cell_type": "code",
   "execution_count": 53,
   "metadata": {},
   "outputs": [
    {
     "name": "stdout",
     "output_type": "stream",
     "text": [
      "Extracting data\\train-images-idx3-ubyte.gz\n",
      "Extracting data\\train-labels-idx1-ubyte.gz\n",
      "Extracting data\\t10k-images-idx3-ubyte.gz\n",
      "Extracting data\\t10k-labels-idx1-ubyte.gz\n"
     ]
    }
   ],
   "source": [
    "X_train, X_test, Y_train, Y_test = load_tf_data()"
   ]
  },
  {
   "cell_type": "code",
   "execution_count": 54,
   "metadata": {},
   "outputs": [
    {
     "data": {
      "text/plain": [
       "(60000, 28, 28, 1)"
      ]
     },
     "execution_count": 54,
     "metadata": {},
     "output_type": "execute_result"
    }
   ],
   "source": [
    "X_train.shape"
   ]
  },
  {
   "cell_type": "code",
   "execution_count": 55,
   "metadata": {},
   "outputs": [
    {
     "data": {
      "text/plain": [
       "(10000, 28, 28, 1)"
      ]
     },
     "execution_count": 55,
     "metadata": {},
     "output_type": "execute_result"
    }
   ],
   "source": [
    "Y_train.shape"
   ]
  },
  {
   "cell_type": "code",
   "execution_count": 56,
   "metadata": {},
   "outputs": [
    {
     "data": {
      "text/plain": [
       "(60000, 10)"
      ]
     },
     "execution_count": 56,
     "metadata": {},
     "output_type": "execute_result"
    }
   ],
   "source": [
    "X_test.shape"
   ]
  },
  {
   "cell_type": "code",
   "execution_count": 57,
   "metadata": {},
   "outputs": [
    {
     "data": {
      "text/plain": [
       "(10000, 10)"
      ]
     },
     "execution_count": 57,
     "metadata": {},
     "output_type": "execute_result"
    }
   ],
   "source": [
    "Y_test.shape"
   ]
  },
  {
   "cell_type": "code",
   "execution_count": 4,
   "metadata": {
    "collapsed": true
   },
   "outputs": [],
   "source": [
    "def random_mini_batches(X, Y, mini_batch_size = 64, seed = 0):\n",
    "    \"\"\"\n",
    "    Creates a list of random minibatches from (X, Y)\n",
    "    \n",
    "    Arguments:\n",
    "    X -- input data, of shape (input size, number of examples)\n",
    "    Y -- true \"label\" vector (containing 0 if cat, 1 if non-cat), of shape (1, number of examples)\n",
    "    mini_batch_size - size of the mini-batches, integer\n",
    "    seed -- this is only for the purpose of grading, so that you're \"random minibatches are the same as ours.\n",
    "    \n",
    "    Returns:\n",
    "    mini_batches -- list of synchronous (mini_batch_X, mini_batch_Y)\n",
    "    \"\"\"\n",
    "    \n",
    "    m = X.shape[0]                  # number of training examples\n",
    "    mini_batches = []\n",
    "    np.random.seed(seed)\n",
    "    \n",
    "    # Step 1: Shuffle (X, Y)\n",
    "    permutation = list(np.random.permutation(m))\n",
    "    shuffled_X = X[permutation,:]\n",
    "    shuffled_Y = Y[permutation,:]\n",
    "\n",
    "    # Step 2: Partition (shuffled_X, shuffled_Y). Minus the end case.\n",
    "    num_complete_minibatches = math.floor(m/mini_batch_size) # number of mini batches of size mini_batch_size in your partitionning\n",
    "    for k in range(0, num_complete_minibatches):\n",
    "        mini_batch_X = shuffled_X[k * mini_batch_size : k * mini_batch_size + mini_batch_size,:]\n",
    "        mini_batch_Y = shuffled_Y[k * mini_batch_size : k * mini_batch_size + mini_batch_size,:]\n",
    "        mini_batch = (mini_batch_X, mini_batch_Y)\n",
    "        mini_batches.append(mini_batch)\n",
    "    \n",
    "    # Handling the end case (last mini-batch < mini_batch_size)\n",
    "    if m % mini_batch_size != 0:\n",
    "        mini_batch_X = shuffled_X[num_complete_minibatches * mini_batch_size : m,:]\n",
    "        mini_batch_Y = shuffled_Y[num_complete_minibatches * mini_batch_size : m,:]\n",
    "        mini_batch = (mini_batch_X, mini_batch_Y)\n",
    "        mini_batches.append(mini_batch)\n",
    "    \n",
    "    return mini_batches"
   ]
  },
  {
   "cell_type": "code",
   "execution_count": 6,
   "metadata": {
    "collapsed": true
   },
   "outputs": [],
   "source": [
    "def model1(X_train, Y_train, X_test, Y_test,\n",
    "          num_epochs = 1500, minibatch_size = 32, print_cost = True):\n",
    "    t=0\n",
    "    ops.reset_default_graph()                         # to be able to rerun the model without overwriting tf variables\n",
    "    tf.set_random_seed(1)                             # to keep consistent results\n",
    "    seed = 3                                          # to keep consistent results\n",
    "    m = X_train.shape[0]                          # (n_x: input size, m : number of examples in the train set)\n",
    "    costs = []                                        # To keep track of the cost\n",
    "    \n",
    "    # input X: 28x28 grayscale images, the first dimension (None) will index the images in the mini-batch\n",
    "    X = tf.placeholder(tf.float32, [None, 28, 28, 1])\n",
    "    # correct answers will go here\n",
    "    Y = tf.placeholder(tf.float32, [None, 10])\n",
    "    # variable learning rate\n",
    "    lr = tf.placeholder(tf.float32)\n",
    "    # Probability of keeping a node during dropout = 1.0 at test time (no dropout) and 0.75 at training time\n",
    "    pkeep = tf.placeholder(tf.float32)\n",
    "\n",
    "    # five layers and their number of neurons (tha last layer has 10 softmax neurons)\n",
    "    L = 200\n",
    "    M = 100\n",
    "    N = 60\n",
    "    O = 30\n",
    "    # Weights initialised with small random values between -0.2 and +0.2\n",
    "    # When using RELUs, make sure biases are initialised with small *positive* values for example 0.1 = tf.ones([K])/10\n",
    "    W1 = tf.Variable(tf.truncated_normal([784, L], stddev=0.1))  # 784 = 28 * 28\n",
    "    B1 = tf.Variable(tf.ones([L])/10)\n",
    "    W2 = tf.Variable(tf.truncated_normal([L, M], stddev=0.1))\n",
    "    B2 = tf.Variable(tf.ones([M])/10)\n",
    "    W3 = tf.Variable(tf.truncated_normal([M, N], stddev=0.1))\n",
    "    B3 = tf.Variable(tf.ones([N])/10)\n",
    "    W4 = tf.Variable(tf.truncated_normal([N, O], stddev=0.1))\n",
    "    B4 = tf.Variable(tf.ones([O])/10)\n",
    "    W5 = tf.Variable(tf.truncated_normal([O, 10], stddev=0.1))\n",
    "    B5 = tf.Variable(tf.zeros([10]))\n",
    "    \n",
    "    parameters = {\"W1\": W1,\n",
    "                  \"B1\": B1,\n",
    "                  \"W2\": W2,\n",
    "                  \"B2\": B2,\n",
    "                  \"W3\": W3,\n",
    "                  \"B3\": B3,\n",
    "                  \"W4\": W4,\n",
    "                  \"B4\": B4,\n",
    "                  \"W5\": W5,\n",
    "                  \"B5\": B5}\n",
    "\n",
    "    # The model, with dropout at each layer\n",
    "    XX = tf.reshape(X, [-1, 28*28])\n",
    "\n",
    "    Y1 = tf.nn.relu(tf.matmul(XX, W1) + B1)\n",
    "    Y1d = tf.nn.dropout(Y1, pkeep)\n",
    "\n",
    "    Y2 = tf.nn.relu(tf.matmul(Y1d, W2) + B2)\n",
    "    Y2d = tf.nn.dropout(Y2, pkeep)\n",
    "\n",
    "    Y3 = tf.nn.relu(tf.matmul(Y2d, W3) + B3)\n",
    "    Y3d = tf.nn.dropout(Y3, pkeep)\n",
    "\n",
    "    Y4 = tf.nn.relu(tf.matmul(Y3d, W4) + B4)\n",
    "    Y4d = tf.nn.dropout(Y4, pkeep)\n",
    "\n",
    "    Ylogits = tf.matmul(Y4d, W5) + B5\n",
    "#     Y = tf.nn.softmax(Ylogits)\n",
    "\n",
    "    # Cost function: Add cost function to tensorflow graph\n",
    "    cost = tf.reduce_mean(tf.nn.softmax_cross_entropy_with_logits(logits = Ylogits, labels = Y))\n",
    "\n",
    "    # training step, the learning rate is a placeholder\n",
    "    optimizer = tf.train.AdamOptimizer(lr).minimize(cost)\n",
    "\n",
    "    # init\n",
    "    init = tf.global_variables_initializer()\n",
    "\n",
    "    # Start the session to compute the tensorflow graph\n",
    "    with tf.Session() as sess:\n",
    "        \n",
    "        # Run the initialization\n",
    "        sess.run(init)\n",
    "        \n",
    "        # Do the training loop\n",
    "        for epoch in range(num_epochs):\n",
    "\n",
    "            epoch_cost = 0.                       # Defines a cost related to an epoch\n",
    "            num_minibatches = int(m / minibatch_size) # number of minibatches of size minibatch_size in the train set\n",
    "            seed = seed + 1\n",
    "            minibatches = random_mini_batches(X_train, Y_train, minibatch_size, seed)\n",
    "\n",
    "            for minibatch in minibatches:\n",
    "                # set learning rate decay\n",
    "                max_learning_rate = 0.003\n",
    "                min_learning_rate = 0.0001\n",
    "                decay_speed = 2000.0 # 0.003-0.0001-2000=>0.9826 done in 5000 iterations\n",
    "                learning_rate = min_learning_rate + (max_learning_rate - min_learning_rate) * math.exp(-t/decay_speed)\n",
    "                t += 1\n",
    "                # Select a minibatch\n",
    "                (minibatch_X, minibatch_Y) = minibatch\n",
    "                \n",
    "                # IMPORTANT: The line that runs the graph on a minibatch.\n",
    "                # Run the session to execute the \"optimizer\" and the \"cost\", the feedict should contain a minibatch for (X,Y).\n",
    "                ### START CODE HERE ### (1 line)\n",
    "                _ , minibatch_cost = sess.run([optimizer, cost], feed_dict={X: minibatch_X, Y: minibatch_Y,\n",
    "                                                                            pkeep: 0.75, lr: learning_rate})\n",
    "                ### END CODE HERE ###\n",
    "                \n",
    "                epoch_cost += minibatch_cost / num_minibatches\n",
    "\n",
    "            # Print the cost every epoch\n",
    "            if print_cost == True and epoch % 1 == 0:\n",
    "                print (\"Cost after epoch %i: %f\" % (epoch, epoch_cost))\n",
    "            if print_cost == True and epoch % 1 == 0:\n",
    "                costs.append(epoch_cost)\n",
    "                \n",
    "        # plot the cost\n",
    "        plt.plot(np.squeeze(costs))\n",
    "        plt.ylabel('cost')\n",
    "        plt.xlabel('iterations (per tens)')\n",
    "        plt.title(\"Learning rate =\" + str(learning_rate))\n",
    "        plt.show()\n",
    "\n",
    "        # lets save the parameters in a variable\n",
    "        parameters = sess.run(parameters)\n",
    "        print (\"Parameters have been trained!\")\n",
    "\n",
    "        correct_prediction = tf.equal(tf.argmax(Ylogits, 1), tf.argmax(Y, 1))\n",
    "        accuracy = tf.reduce_mean(tf.cast(correct_prediction, tf.float32))\n",
    "\n",
    "        print (\"Train Accuracy:\", accuracy.eval({X: X_train, Y: Y_train, pkeep: 1}))\n",
    "        print (\"Test Accuracy:\", accuracy.eval({X: X_test, Y: Y_test, pkeep: 1}))\n",
    "        \n",
    "        return parameters"
   ]
  },
  {
   "cell_type": "code",
   "execution_count": 7,
   "metadata": {
    "collapsed": true
   },
   "outputs": [],
   "source": [
    "def batchnorm(Ylogits, is_test, iteration, offset, convolutional=False):\n",
    "    exp_moving_avg = tf.train.ExponentialMovingAverage(0.999, iteration) # adding the iteration prevents from averaging across non-existing iterations\n",
    "    bnepsilon = 1e-5\n",
    "    if convolutional:\n",
    "        mean, variance = tf.nn.moments(Ylogits, [0, 1, 2])\n",
    "    else:\n",
    "        mean, variance = tf.nn.moments(Ylogits, [0])\n",
    "    update_moving_everages = exp_moving_avg.apply([mean, variance])\n",
    "    m = tf.cond(is_test, lambda: exp_moving_avg.average(mean), lambda: mean)\n",
    "    v = tf.cond(is_test, lambda: exp_moving_avg.average(variance), lambda: variance)\n",
    "    Ybn = tf.nn.batch_normalization(Ylogits, m, v, offset, None, bnepsilon)\n",
    "    return Ybn, update_moving_everages\n",
    "\n",
    "def model2(X_train, Y_train, X_test, Y_test,\n",
    "          num_epochs = 1500, minibatch_size = 32, print_cost = True):\n",
    "    t=0\n",
    "    ops.reset_default_graph()                         # to be able to rerun the model without overwriting tf variables\n",
    "    tf.set_random_seed(1)                             \n",
    "    seed = 3                                          \n",
    "    m = X_train.shape[0]                          \n",
    "    costs = []                                        # To keep track of the cost\n",
    "    \n",
    "    # input X: 28x28 grayscale images, the first dimension (None) will index the images in the mini-batch\n",
    "    X = tf.placeholder(tf.float32, [None, 28, 28, 1])\n",
    "    # correct answers will go here\n",
    "    Y = tf.placeholder(tf.float32, [None, 10])\n",
    "    # variable learning rate\n",
    "    lr = tf.placeholder(tf.float32)\n",
    "    # train/test selector for batch normalisation\n",
    "    tst = tf.placeholder(tf.bool)\n",
    "    # training iteration\n",
    "    itr = tf.placeholder(tf.int32)\n",
    "    # Probability of keeping a node during dropout = 1.0 at test time (no dropout) and 0.75 at training time\n",
    "    pkeep = tf.placeholder(tf.float32)\n",
    "\n",
    "    # five layers and their number of neurons (tha last layer has 10 softmax neurons)\n",
    "    L = 200\n",
    "    M = 100\n",
    "    N = 60\n",
    "    O = 30\n",
    "    # Weights initialised with small random values between -0.2 and +0.2\n",
    "    # When using RELUs, make sure biases are initialised with small *positive* values for example 0.1 = tf.ones([K])/10\n",
    "    W1 = tf.Variable(tf.truncated_normal([784, L], stddev=0.1))  # 784 = 28 * 28\n",
    "    B1 = tf.Variable(tf.ones([L])/10)\n",
    "    W2 = tf.Variable(tf.truncated_normal([L, M], stddev=0.1))\n",
    "    B2 = tf.Variable(tf.ones([M])/10)\n",
    "    W3 = tf.Variable(tf.truncated_normal([M, N], stddev=0.1))\n",
    "    B3 = tf.Variable(tf.ones([N])/10)\n",
    "    W4 = tf.Variable(tf.truncated_normal([N, O], stddev=0.1))\n",
    "    B4 = tf.Variable(tf.ones([O])/10)\n",
    "    W5 = tf.Variable(tf.truncated_normal([O, 10], stddev=0.1))\n",
    "    B5 = tf.Variable(tf.zeros([10]))\n",
    "    \n",
    "    parameters = {\"W1\": W1,\n",
    "                  \"B1\": B1,\n",
    "                  \"W2\": W2,\n",
    "                  \"B2\": B2,\n",
    "                  \"W3\": W3,\n",
    "                  \"B3\": B3,\n",
    "                  \"W4\": W4,\n",
    "                  \"B4\": B4,\n",
    "                  \"W5\": W5,\n",
    "                  \"B5\": B5}\n",
    "\n",
    "    # The model\n",
    "    XX = tf.reshape(X, [-1, 784])\n",
    "\n",
    "    # batch norm scaling is not useful with relus\n",
    "    # batch norm offsets are used instead of biases\n",
    "\n",
    "    Y1l = tf.matmul(XX, W1)\n",
    "    Y1bn, update_ema1 = batchnorm(Y1l, tst, itr, B1)\n",
    "    Y1 = tf.nn.relu(Y1bn)\n",
    "    Y1d = tf.nn.dropout(Y1, pkeep)\n",
    "\n",
    "    Y2l = tf.matmul(Y1d, W2)\n",
    "    Y2bn, update_ema2 = batchnorm(Y2l, tst, itr, B2)\n",
    "    Y2 = tf.nn.relu(Y2bn)\n",
    "    Y2d = tf.nn.dropout(Y2, pkeep)\n",
    "\n",
    "    Y3l = tf.matmul(Y2d, W3)\n",
    "    Y3bn, update_ema3 = batchnorm(Y3l, tst, itr, B3)\n",
    "    Y3 = tf.nn.relu(Y3bn)\n",
    "    Y3d = tf.nn.dropout(Y3, pkeep)\n",
    "\n",
    "    Y4l = tf.matmul(Y3d, W4)\n",
    "    Y4bn, update_ema4 = batchnorm(Y4l, tst, itr, B4)\n",
    "    Y4 = tf.nn.relu(Y4bn)\n",
    "    Y4d = tf.nn.dropout(Y4, pkeep)\n",
    "\n",
    "    Ylogits = tf.matmul(Y4d, W5) + B5\n",
    "\n",
    "    update_ema = tf.group(update_ema1, update_ema2, update_ema3, update_ema4)\n",
    "\n",
    "    # Cost function: Add cost function to tensorflow graph\n",
    "    cost = tf.reduce_mean(tf.nn.softmax_cross_entropy_with_logits(logits = Ylogits, labels = Y))\n",
    "\n",
    "    # training step, the learning rate is a placeholder\n",
    "    optimizer = tf.train.AdamOptimizer(lr).minimize(cost)\n",
    "\n",
    "    # init\n",
    "    init = tf.global_variables_initializer()\n",
    "\n",
    "    # Start the session to compute the tensorflow graph\n",
    "    with tf.Session() as sess:\n",
    "        \n",
    "        # Run the initialization\n",
    "        sess.run(init)\n",
    "        \n",
    "        # Do the training loop\n",
    "        for epoch in range(num_epochs):\n",
    "\n",
    "            epoch_cost = 0.                       # Defines a cost related to an epoch\n",
    "            num_minibatches = int(m / minibatch_size) # number of minibatches of size minibatch_size in the train set\n",
    "            seed = seed + 1\n",
    "            minibatches = random_mini_batches(X_train, Y_train, minibatch_size, seed)\n",
    "\n",
    "            for minibatch in minibatches:\n",
    "                # set learning rate decay\n",
    "                max_learning_rate = 0.003\n",
    "                min_learning_rate = 0.0001\n",
    "                decay_speed = 2000.0 # 0.003-0.0001-2000=>0.9826 done in 5000 iterations\n",
    "                learning_rate = min_learning_rate + (max_learning_rate - min_learning_rate) * math.exp(-t/decay_speed)\n",
    "                t += 1\n",
    "                # Select a minibatch\n",
    "                (minibatch_X, minibatch_Y) = minibatch\n",
    "                \n",
    "                # IMPORTANT: The line that runs the graph on a minibatch.\n",
    "                # Run the session to execute the \"optimizer\" and the \"cost\", the feedict should contain a minibatch for (X,Y).\n",
    "                _ , minibatch_cost = sess.run([optimizer,cost], {X:minibatch_X, Y:minibatch_Y, pkeep:1,\n",
    "                                                                 lr: learning_rate, tst: False})\n",
    "                sess.run(update_ema, {X:minibatch_X, Y:minibatch_Y, tst: False, itr: t, pkeep:1})\n",
    "                \n",
    "                epoch_cost += minibatch_cost / num_minibatches\n",
    "\n",
    "            # Print the cost every epoch\n",
    "            if print_cost == True and epoch % 1 == 0:\n",
    "                print (\"Cost after epoch %i: %f\" % (epoch, epoch_cost))\n",
    "            if print_cost == True and epoch % 1 == 0:\n",
    "                costs.append(epoch_cost)\n",
    "                \n",
    "        # plot the cost\n",
    "        plt.plot(np.squeeze(costs))\n",
    "        plt.ylabel('cost')\n",
    "        plt.xlabel('iterations (per tens)')\n",
    "        plt.title(\"Learning rate =\" + str(learning_rate))\n",
    "        plt.show()\n",
    "\n",
    "        # lets save the parameters in a variable\n",
    "        parameters = sess.run(parameters)\n",
    "        print (\"Parameters have been trained!\")\n",
    "\n",
    "        correct_prediction = tf.equal(tf.argmax(Ylogits, 1), tf.argmax(Y, 1))\n",
    "        accuracy = tf.reduce_mean(tf.cast(correct_prediction, tf.float32))\n",
    "\n",
    "        print (\"Train Accuracy:\", accuracy.eval({X: X_train, Y: Y_train, pkeep: 1,tst: False}))\n",
    "        print (\"Test Accuracy:\", accuracy.eval({X: X_test, Y: Y_test, pkeep: 1,tst: False}))\n",
    "        \n",
    "        return parameters"
   ]
  },
  {
   "cell_type": "code",
   "execution_count": 5,
   "metadata": {
    "collapsed": true
   },
   "outputs": [],
   "source": [
    "def model3(X_train, Y_train, X_test, Y_test,\n",
    "          num_epochs = 1500, minibatch_size = 32, print_cost = True):\n",
    "    t=0\n",
    "    ops.reset_default_graph()                         # to be able to rerun the model without overwriting tf variables\n",
    "    tf.set_random_seed(1)                             # to keep consistent results\n",
    "    seed = 3                                          # to keep consistent results\n",
    "    m = X_train.shape[0]                          # (n_x: input size, m : number of examples in the train set)\n",
    "    costs = []                                        # To keep track of the cost\n",
    "    \n",
    "    # input X: 28x28 grayscale images, the first dimension (None) will index the images in the mini-batch\n",
    "    X = tf.placeholder(tf.float32, [None, 28, 28, 1])\n",
    "    # correct answers will go here\n",
    "    Y = tf.placeholder(tf.float32, [None, 10])\n",
    "    # variable learning rate\n",
    "    lr = tf.placeholder(tf.float32)\n",
    "    # Probability of keeping a node during dropout = 1.0 at test time (no dropout) and 0.75 at training time\n",
    "    pkeep = tf.placeholder(tf.float32)\n",
    "\n",
    "    # three convolutional layers with their channel counts, and a\n",
    "    # fully connected layer (the last layer has 10 softmax neurons)\n",
    "    K = 6  # first convolutional layer output depth\n",
    "    L = 12  # second convolutional layer output depth\n",
    "    M = 24  # third convolutional layer\n",
    "    N = 200  # fully connected layer\n",
    "\n",
    "    W1 = tf.Variable(tf.truncated_normal([6, 6, 1, K], stddev=0.1))  # 6x6 patch, 1 input channel, K output channels\n",
    "    B1 = tf.Variable(tf.constant(0.1, tf.float32, [K]))\n",
    "    W2 = tf.Variable(tf.truncated_normal([5, 5, K, L], stddev=0.1))\n",
    "    B2 = tf.Variable(tf.constant(0.1, tf.float32, [L]))\n",
    "    W3 = tf.Variable(tf.truncated_normal([4, 4, L, M], stddev=0.1))\n",
    "    B3 = tf.Variable(tf.constant(0.1, tf.float32, [M]))\n",
    "\n",
    "    W4 = tf.Variable(tf.truncated_normal([7 * 7 * M, N], stddev=0.1))\n",
    "    B4 = tf.Variable(tf.constant(0.1, tf.float32, [N]))\n",
    "    W5 = tf.Variable(tf.truncated_normal([N, 10], stddev=0.1))\n",
    "    B5 = tf.Variable(tf.constant(0.1, tf.float32, [10]))\n",
    "    \n",
    "    parameters = {\"W1\": W1,\n",
    "                  \"B1\": B1,\n",
    "                  \"W2\": W2,\n",
    "                  \"B2\": B2,\n",
    "                  \"W3\": W3,\n",
    "                  \"B3\": B3,\n",
    "                  \"W4\": W4,\n",
    "                  \"B4\": B4,\n",
    "                  \"W5\": W5,\n",
    "                  \"B5\": B5}\n",
    "\n",
    "    # The model\n",
    "    stride = 1  # output is 28x28\n",
    "    Y1 = tf.nn.relu(tf.nn.conv2d(X, W1, strides=[1, stride, stride, 1], padding='SAME') + B1)\n",
    "    stride = 2  # output is 14x14\n",
    "    Y2 = tf.nn.relu(tf.nn.conv2d(Y1, W2, strides=[1, stride, stride, 1], padding='SAME') + B2)\n",
    "    stride = 2  # output is 7x7\n",
    "    Y3 = tf.nn.relu(tf.nn.conv2d(Y2, W3, strides=[1, stride, stride, 1], padding='SAME') + B3)\n",
    "\n",
    "    # reshape the output from the third convolution for the fully connected layer\n",
    "    YY = tf.reshape(Y3, shape=[-1, 7 * 7 * M])\n",
    "\n",
    "    Y4 = tf.nn.relu(tf.matmul(YY, W4) + B4)\n",
    "    YY4 = tf.nn.dropout(Y4, pkeep)\n",
    "    Ylogits = tf.matmul(YY4, W5) + B5\n",
    "\n",
    "    # Cost function: Add cost function to tensorflow graph\n",
    "    cost = tf.reduce_mean(tf.nn.softmax_cross_entropy_with_logits(logits = Ylogits, labels = Y))\n",
    "\n",
    "    # training step, the learning rate is a placeholder\n",
    "    optimizer = tf.train.AdamOptimizer(lr).minimize(cost)\n",
    "\n",
    "    # init\n",
    "    init = tf.global_variables_initializer()\n",
    "\n",
    "    # Start the session to compute the tensorflow graph\n",
    "    with tf.Session() as sess:\n",
    "        \n",
    "        # Run the initialization\n",
    "        sess.run(init)\n",
    "        \n",
    "        # Do the training loop\n",
    "        for epoch in range(num_epochs):\n",
    "\n",
    "            epoch_cost = 0.                       # Defines a cost related to an epoch\n",
    "            num_minibatches = int(m / minibatch_size) # number of minibatches of size minibatch_size in the train set\n",
    "            seed = seed + 1\n",
    "            minibatches = random_mini_batches(X_train, Y_train, minibatch_size, seed)\n",
    "\n",
    "            for minibatch in minibatches:\n",
    "                # set learning rate decay\n",
    "                max_learning_rate = 0.003\n",
    "                min_learning_rate = 0.0001\n",
    "                decay_speed = 2000.0 # 0.003-0.0001-2000=>0.9826 done in 5000 iterations\n",
    "                learning_rate = min_learning_rate + (max_learning_rate - min_learning_rate) * math.exp(-t/decay_speed)\n",
    "                t += 1\n",
    "                # Select a minibatch\n",
    "                (minibatch_X, minibatch_Y) = minibatch\n",
    "                \n",
    "                # IMPORTANT: The line that runs the graph on a minibatch.\n",
    "                # Run the session to execute the \"optimizer\" and the \"cost\", the feedict should contain a minibatch for (X,Y).\n",
    "                ### START CODE HERE ### (1 line)\n",
    "                _ , minibatch_cost = sess.run([optimizer, cost], feed_dict={X: minibatch_X, Y: minibatch_Y,\n",
    "                                                                            pkeep: 0.75, lr: learning_rate})\n",
    "                ### END CODE HERE ###\n",
    "                \n",
    "                epoch_cost += minibatch_cost / num_minibatches\n",
    "\n",
    "            # Print the cost every epoch\n",
    "            if print_cost == True and epoch % 1 == 0:\n",
    "                print (\"Cost after epoch %i: %f\" % (epoch, epoch_cost))\n",
    "            if print_cost == True and epoch % 1 == 0:\n",
    "                costs.append(epoch_cost)\n",
    "                \n",
    "        # plot the cost\n",
    "        plt.plot(np.squeeze(costs))\n",
    "        plt.ylabel('cost')\n",
    "        plt.xlabel('iterations (per tens)')\n",
    "        plt.title(\"Learning rate =\" + str(learning_rate))\n",
    "        plt.show()\n",
    "\n",
    "        # lets save the parameters in a variable\n",
    "        parameters = sess.run(parameters)\n",
    "        print (\"Parameters have been trained!\")\n",
    "\n",
    "        correct_prediction = tf.equal(tf.argmax(Ylogits, 1), tf.argmax(Y, 1))\n",
    "        accuracy = tf.reduce_mean(tf.cast(correct_prediction, tf.float32))\n",
    "\n",
    "        print (\"Train Accuracy:\", accuracy.eval({X: X_train, Y: Y_train, pkeep: 1}))\n",
    "        print (\"Test Accuracy:\", accuracy.eval({X: X_test, Y: Y_test, pkeep: 1}))\n",
    "        \n",
    "        \n",
    "        return parameters"
   ]
  },
  {
   "cell_type": "code",
   "execution_count": 9,
   "metadata": {
    "collapsed": true
   },
   "outputs": [],
   "source": [
    "def no_batchnorm(Ylogits, is_test, iteration, offset, convolutional=False):\n",
    "    return Ylogits, tf.no_op()\n",
    "\n",
    "def compatible_convolutional_noise_shape(Y):\n",
    "    noiseshape = tf.shape(Y)\n",
    "    noiseshape = noiseshape * tf.constant([1,0,0,1]) + tf.constant([0,1,1,0])\n",
    "    return noiseshape\n",
    "\n",
    "def model4(X_train, Y_train, X_test, Y_test,\n",
    "          num_epochs = 1500, minibatch_size = 32, print_cost = True):\n",
    "    t=0\n",
    "    ops.reset_default_graph()                         # to be able to rerun the model without overwriting tf variables\n",
    "    tf.set_random_seed(1)                             \n",
    "    seed = 3                                          \n",
    "    m = X_train.shape[0]                          \n",
    "    costs = []                                        # To keep track of the cost\n",
    "    \n",
    "    # input X: 28x28 grayscale images, the first dimension (None) will index the images in the mini-batch\n",
    "    X = tf.placeholder(tf.float32, [None, 28, 28, 1])\n",
    "    # correct answers will go here\n",
    "    Y = tf.placeholder(tf.float32, [None, 10])\n",
    "    # variable learning rate\n",
    "    lr = tf.placeholder(tf.float32)\n",
    "    # train/test selector for batch normalisation\n",
    "    tst = tf.placeholder(tf.bool)\n",
    "    # training iteration\n",
    "    itr = tf.placeholder(tf.int32)\n",
    "    # Probability of keeping a node during dropout = 1.0 at test time (no dropout) and 0.75 at training time\n",
    "    pkeep = tf.placeholder(tf.float32)\n",
    "    pkeep_conv = tf.placeholder(tf.float32)\n",
    "\n",
    "    # three convolutional layers with their channel counts, and a\n",
    "    # fully connected layer (tha last layer has 10 softmax neurons)\n",
    "    K = 24  # first convolutional layer output depth\n",
    "    L = 48  # second convolutional layer output depth\n",
    "    M = 64  # third convolutional layer\n",
    "    N = 200  # fully connected layer\n",
    "\n",
    "    W1 = tf.Variable(tf.truncated_normal([6, 6, 1, K], stddev=0.1))  # 6x6 patch, 1 input channel, K output channels\n",
    "    B1 = tf.Variable(tf.constant(0.1, tf.float32, [K]))\n",
    "    W2 = tf.Variable(tf.truncated_normal([5, 5, K, L], stddev=0.1))\n",
    "    B2 = tf.Variable(tf.constant(0.1, tf.float32, [L]))\n",
    "    W3 = tf.Variable(tf.truncated_normal([4, 4, L, M], stddev=0.1))\n",
    "    B3 = tf.Variable(tf.constant(0.1, tf.float32, [M]))\n",
    "\n",
    "    W4 = tf.Variable(tf.truncated_normal([7 * 7 * M, N], stddev=0.1))\n",
    "    B4 = tf.Variable(tf.constant(0.1, tf.float32, [N]))\n",
    "    W5 = tf.Variable(tf.truncated_normal([N, 10], stddev=0.1))\n",
    "    B5 = tf.Variable(tf.constant(0.1, tf.float32, [10]))\n",
    "    \n",
    "    parameters = {\"W1\": W1,\n",
    "                  \"B1\": B1,\n",
    "                  \"W2\": W2,\n",
    "                  \"B2\": B2,\n",
    "                  \"W3\": W3,\n",
    "                  \"B3\": B3,\n",
    "                  \"W4\": W4,\n",
    "                  \"B4\": B4,\n",
    "                  \"W5\": W5,\n",
    "                  \"B5\": B5}\n",
    "\n",
    "    # The model\n",
    "    # batch norm scaling is not useful with relus\n",
    "    # batch norm offsets are used instead of biases\n",
    "    stride = 1  # output is 28x28\n",
    "    Y1l = tf.nn.conv2d(X, W1, strides=[1, stride, stride, 1], padding='SAME')\n",
    "    Y1bn, update_ema1 = batchnorm(Y1l, tst, itr, B1, convolutional=True)\n",
    "    Y1r = tf.nn.relu(Y1bn)\n",
    "    Y1 = tf.nn.dropout(Y1r, pkeep_conv, compatible_convolutional_noise_shape(Y1r))\n",
    "    stride = 2  # output is 14x14\n",
    "    Y2l = tf.nn.conv2d(Y1, W2, strides=[1, stride, stride, 1], padding='SAME')\n",
    "    Y2bn, update_ema2 = batchnorm(Y2l, tst, itr, B2, convolutional=True)\n",
    "    Y2r = tf.nn.relu(Y2bn)\n",
    "    Y2 = tf.nn.dropout(Y2r, pkeep_conv, compatible_convolutional_noise_shape(Y2r))\n",
    "    stride = 2  # output is 7x7\n",
    "    Y3l = tf.nn.conv2d(Y2, W3, strides=[1, stride, stride, 1], padding='SAME')\n",
    "    Y3bn, update_ema3 = batchnorm(Y3l, tst, itr, B3, convolutional=True)\n",
    "    Y3r = tf.nn.relu(Y3bn)\n",
    "    Y3 = tf.nn.dropout(Y3r, pkeep_conv, compatible_convolutional_noise_shape(Y3r))\n",
    "\n",
    "    # reshape the output from the third convolution for the fully connected layer\n",
    "    YY = tf.reshape(Y3, shape=[-1, 7 * 7 * M])\n",
    "\n",
    "    Y4l = tf.matmul(YY, W4)\n",
    "    Y4bn, update_ema4 = batchnorm(Y4l, tst, itr, B4)\n",
    "    Y4r = tf.nn.relu(Y4bn)\n",
    "    Y4 = tf.nn.dropout(Y4r, pkeep)\n",
    "    Ylogits = tf.matmul(Y4, W5) + B5\n",
    "\n",
    "    update_ema = tf.group(update_ema1, update_ema2, update_ema3, update_ema4)\n",
    "\n",
    "    # Cost function: Add cost function to tensorflow graph\n",
    "    cost = tf.reduce_mean(tf.nn.softmax_cross_entropy_with_logits(logits = Ylogits, labels = Y))\n",
    "\n",
    "    # training step, the learning rate is a placeholder\n",
    "    optimizer = tf.train.AdamOptimizer(lr).minimize(cost)\n",
    "\n",
    "    # init\n",
    "    init = tf.global_variables_initializer()\n",
    "\n",
    "    # Start the session to compute the tensorflow graph\n",
    "    with tf.Session() as sess:\n",
    "        \n",
    "        # Run the initialization\n",
    "        sess.run(init)\n",
    "        \n",
    "        # Do the training loop\n",
    "        for epoch in range(num_epochs):\n",
    "\n",
    "            epoch_cost = 0.                       # Defines a cost related to an epoch\n",
    "            num_minibatches = int(m / minibatch_size) # number of minibatches of size minibatch_size in the train set\n",
    "            seed = seed + 1\n",
    "            minibatches = random_mini_batches(X_train, Y_train, minibatch_size, seed)\n",
    "\n",
    "            for minibatch in minibatches:\n",
    "                # set learning rate decay\n",
    "                max_learning_rate = 0.003\n",
    "                min_learning_rate = 0.0001\n",
    "                decay_speed = 2000.0 # 0.003-0.0001-2000=>0.9826 done in 5000 iterations\n",
    "                learning_rate = min_learning_rate + (max_learning_rate - min_learning_rate) * math.exp(-t/decay_speed)\n",
    "                t += 1\n",
    "                # Select a minibatch\n",
    "                (minibatch_X, minibatch_Y) = minibatch\n",
    "                \n",
    "                # IMPORTANT: The line that runs the graph on a minibatch.\n",
    "                # Run the session to execute the \"optimizer\" and the \"cost\", the feedict should contain a minibatch for (X,Y).\n",
    "                _ , minibatch_cost = sess.run([optimizer,cost], {X:minibatch_X, Y:minibatch_Y, pkeep:0.75, pkeep_conv:1,\n",
    "                                                                 lr: learning_rate, tst: False})\n",
    "                sess.run(update_ema, {X:minibatch_X, Y:minibatch_Y, tst: False, itr: t, pkeep:1,pkeep_conv:1})\n",
    "                \n",
    "                epoch_cost += minibatch_cost / num_minibatches\n",
    "                break\n",
    "\n",
    "            # Print the cost every epoch\n",
    "            if print_cost == True and epoch % 1 == 0:\n",
    "                print (\"Cost after epoch %i: %f\" % (epoch, epoch_cost))\n",
    "            if print_cost == True and epoch % 1 == 0:\n",
    "                costs.append(epoch_cost)\n",
    "                \n",
    "        # plot the cost\n",
    "        plt.plot(np.squeeze(costs))\n",
    "        plt.ylabel('cost')\n",
    "        plt.xlabel('iterations (per tens)')\n",
    "        plt.title(\"Learning rate =\" + str(learning_rate))\n",
    "        plt.show()\n",
    "\n",
    "        # lets save the parameters in a variable\n",
    "        parameters = sess.run(parameters)\n",
    "        print (\"Parameters have been trained!\")\n",
    "\n",
    "        correct_prediction = tf.equal(tf.argmax(Ylogits, 1), tf.argmax(Y, 1))\n",
    "        accuracy = tf.reduce_mean(tf.cast(correct_prediction, tf.float32))\n",
    "\n",
    "        print (\"Train Accuracy:\", accuracy.eval({X: X_train, Y: Y_train, pkeep: 1,pkeep_conv:1,tst: False}))\n",
    "        print (\"Test Accuracy:\", accuracy.eval({X: X_test, Y: Y_test, pkeep: 1,pkeep_conv:1,tst: False}))\n",
    "        \n",
    "        return parameters"
   ]
  },
  {
   "cell_type": "code",
   "execution_count": 6,
   "metadata": {},
   "outputs": [
    {
     "name": "stdout",
     "output_type": "stream",
     "text": [
      "Cost after epoch 0: 0.225864\n",
      "Cost after epoch 1: 0.064315\n",
      "Cost after epoch 2: 0.040767\n",
      "Cost after epoch 3: 0.030529\n",
      "Cost after epoch 4: 0.020573\n"
     ]
    },
    {
     "data": {
      "image/png": "[encoded data removed]",
      "text/plain": [
       "<matplotlib.figure.Figure at 0x7fc91204b080>"
      ]
     },
     "metadata": {},
     "output_type": "display_data"
    },
    {
     "name": "stdout",
     "output_type": "stream",
     "text": [
      "Parameters have been trained!\n",
      "Train Accuracy: 0.997699\n",
      "Test Accuracy: 0.988\n"
     ]
    }
   ],
   "source": [
    "# X_train, X_test, Y_train, Y_test = load_tf_data()\n",
    "X_train, X_test, Y_train, Y_test = load_kaggle_data()\n",
    "parameters = model3(X_train, Y_train, X_test, Y_test, num_epochs = 5, minibatch_size = 64)"
   ]
  },
  {
   "cell_type": "code",
   "execution_count": 73,
   "metadata": {
    "collapsed": true
   },
   "outputs": [],
   "source": [
    "def predict3(X_to_predict, parameters):\n",
    "    \n",
    "    M = 24  # third convolutional layer\n",
    "    \n",
    "    W1 = tf.convert_to_tensor(parameters[\"W1\"])\n",
    "    B1 = tf.convert_to_tensor(parameters[\"B1\"])\n",
    "    W2 = tf.convert_to_tensor(parameters[\"W2\"])\n",
    "    B2 = tf.convert_to_tensor(parameters[\"B2\"])\n",
    "    W3 = tf.convert_to_tensor(parameters[\"W3\"])\n",
    "    B3 = tf.convert_to_tensor(parameters[\"B3\"])\n",
    "    W4 = tf.convert_to_tensor(parameters[\"W4\"])\n",
    "    B4 = tf.convert_to_tensor(parameters[\"B4\"])\n",
    "    W5 = tf.convert_to_tensor(parameters[\"W5\"])\n",
    "    B5 = tf.convert_to_tensor(parameters[\"B5\"])\n",
    "    \n",
    "#     params = {\"W1\": W1,\n",
    "#               \"b1\": b1,\n",
    "#               \"W2\": W2,\n",
    "#               \"b2\": b2,\n",
    "#               \"W3\": W3,\n",
    "#               \"b3\": b3}\n",
    "    \n",
    "    X = tf.placeholder(tf.float32, [None, 28, 28, 1])\n",
    "    \n",
    "    # The model\n",
    "    stride = 1  # output is 28x28\n",
    "    Y1 = tf.nn.relu(tf.nn.conv2d(X, W1, strides=[1, stride, stride, 1], padding='SAME') + B1)\n",
    "    stride = 2  # output is 14x14\n",
    "    Y2 = tf.nn.relu(tf.nn.conv2d(Y1, W2, strides=[1, stride, stride, 1], padding='SAME') + B2)\n",
    "    stride = 2  # output is 7x7\n",
    "    Y3 = tf.nn.relu(tf.nn.conv2d(Y2, W3, strides=[1, stride, stride, 1], padding='SAME') + B3)\n",
    "\n",
    "    # reshape the output from the third convolution for the fully connected layer\n",
    "    YY = tf.reshape(Y3, shape=[-1, 7 * 7 * M])\n",
    "\n",
    "    Y4 = tf.nn.relu(tf.matmul(YY, W4) + B4)\n",
    "#     YY4 = tf.nn.dropout(Y4, pkeep)\n",
    "    Ylogits = tf.matmul(Y4, W5) + B5\n",
    "    \n",
    "    p = tf.argmax(Ylogits,1)\n",
    "    \n",
    "    with tf.Session() as sess:\n",
    "        prediction = sess.run(p, feed_dict = {X: X_to_predict})\n",
    "        \n",
    "    return prediction"
   ]
  },
  {
   "cell_type": "code",
   "execution_count": 65,
   "metadata": {
    "collapsed": true
   },
   "outputs": [],
   "source": [
    "def load_kaggle_test():\n",
    "    # read test data from CSV file \n",
    "    test_images = pd.read_csv('input/test.csv').values\n",
    "    test_images = test_images.astype(np.float)\n",
    "\n",
    "    # convert from [0:255] => [0.0:1.0]\n",
    "    test_images = test_images.reshape(-1,28,28,1)/255.\n",
    "    return test_images"
   ]
  },
  {
   "cell_type": "code",
   "execution_count": 66,
   "metadata": {
    "collapsed": true
   },
   "outputs": [],
   "source": [
    "test_images = load_kaggle_test()"
   ]
  },
  {
   "cell_type": "code",
   "execution_count": 77,
   "metadata": {},
   "outputs": [
    {
     "data": {
      "text/plain": [
       "(28, 28, 1)"
      ]
     },
     "execution_count": 77,
     "metadata": {},
     "output_type": "execute_result"
    }
   ],
   "source": [
    "test_images[0].shape"
   ]
  },
  {
   "cell_type": "code",
   "execution_count": 74,
   "metadata": {
    "collapsed": true
   },
   "outputs": [],
   "source": [
    "prediction = predict3(test_images, parameters)"
   ]
  },
  {
   "cell_type": "code",
   "execution_count": 75,
   "metadata": {},
   "outputs": [
    {
     "data": {
      "text/plain": [
       "array([2, 0, 9, ..., 3, 9, 2], dtype=int64)"
      ]
     },
     "execution_count": 75,
     "metadata": {},
     "output_type": "execute_result"
    }
   ],
   "source": [
    "prediction"
   ]
  },
  {
   "cell_type": "code",
   "execution_count": 78,
   "metadata": {},
   "outputs": [
    {
     "data": {
      "text/plain": [
       "<matplotlib.image.AxesImage at 0x1391de80>"
      ]
     },
     "execution_count": 78,
     "metadata": {},
     "output_type": "execute_result"
    },
    {
     "data": {
      "image/png": "[encoded data removed]",
      "text/plain": [
       "<matplotlib.figure.Figure at 0x1376e828>"
      ]
     },
     "metadata": {},
     "output_type": "display_data"
    }
   ],
   "source": [
    "plt.imshow(test_images[0].reshape(28,28))"
   ]
  },
  {
   "cell_type": "code",
   "execution_count": 79,
   "metadata": {
    "collapsed": true
   },
   "outputs": [],
   "source": [
    "np.savetxt('submission_model3.csv', \n",
    "           np.c_[range(1,len(test_images)+1),prediction], \n",
    "           delimiter=',', \n",
    "           header = 'ImageId,Label', \n",
    "           comments = '', \n",
    "           fmt='%d')"
   ]
  },
  {
   "cell_type": "code",
   "execution_count": null,
   "metadata": {
    "collapsed": true
   },
   "outputs": [],
   "source": []
  }
 ],
 "metadata": {
  "kernelspec": {
   "display_name": "Python 3",
   "language": "python",
   "name": "python3"
  },
  "language_info": {
   "codemirror_mode": {
    "name": "ipython",
    "version": 3
   },
   "file_extension": ".py",
   "mimetype": "text/x-python",
   "name": "python",
   "nbconvert_exporter": "python",
   "pygments_lexer": "ipython3",
   "version": "3.6.1"
  }
 },
 "nbformat": 4,
 "nbformat_minor": 2
}
